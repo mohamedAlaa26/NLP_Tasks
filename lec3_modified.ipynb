{
 "cells": [
  {
   "cell_type": "markdown",
   "id": "9fa57d4c",
   "metadata": {},
   "source": [
    "# RNN  "
   ]
  },
  {
   "cell_type": "code",
   "execution_count": 20,
   "id": "0aa69252",
   "metadata": {},
   "outputs": [],
   "source": [
    "import torch\n",
    "import torch.nn as nn\n",
    "import torch.nn.functional as F\n",
    "import torchvision \n",
    "from torchvision import transforms\n",
    "\n",
    "from torch.utils.data import Dataset, DataLoader\n",
    "\n",
    "from tqdm.autonotebook import tqdm\n",
    "\n",
    "import numpy as np\n",
    "import seaborn as sns\n",
    "import matplotlib.pyplot as plt\n",
    "from matplotlib.pyplot import imshow\n",
    "import pandas as pd\n",
    "from sklearn.metrics import accuracy_score\n",
    "import time"
   ]
  },
  {
   "cell_type": "markdown",
   "id": "2c62be15",
   "metadata": {},
   "source": [
    "## NEW PART ADDED !!"
   ]
  },
  {
   "cell_type": "markdown",
   "id": "e4ef1fcf",
   "metadata": {},
   "source": [
    "### collate_fn is a function that tells DataLoader how to combine a list of samples to a batch."
   ]
  },
  {
   "cell_type": "code",
   "execution_count": 21,
   "id": "eff0a3be",
   "metadata": {},
   "outputs": [],
   "source": [
    "from torch.nn.utils.rnn import pad_sequence\n",
    "\n",
    "def collate_fn(batch):\n",
    "    sequences, labels = zip(*batch)\n",
    "    lengths = torch.tensor([len(seq) for seq in sequences])\n",
    "    padded_sequences = pad_sequence(sequences, batch_first=True, padding_value=0)\n",
    "    labels = torch.tensor(labels)\n",
    "    return padded_sequences, lengths, labels\n",
    "\n"
   ]
  },
  {
   "cell_type": "code",
   "execution_count": 22,
   "id": "cc41d9bf",
   "metadata": {},
   "outputs": [],
   "source": [
    "D = 28*28\n",
    "n = 256\n",
    "C = 1\n",
    "\n",
    "classes = 10\n",
    "\n",
    "model_regular = nn.Sequential(\n",
    "    nn.Flatten(), \n",
    "    nn.Linear(D, n), \n",
    "    nn.Tanh(), \n",
    "    nn.Linear(n, n),\n",
    "    nn.Tanh(),\n",
    "    nn.Linear(n, n), \n",
    "    nn.Tanh(), \n",
    "    nn.Linear(n, classes), \n",
    ")"
   ]
  },
  {
   "cell_type": "code",
   "execution_count": 23,
   "id": "a245bba3",
   "metadata": {},
   "outputs": [],
   "source": [
    "h_2 = nn.Linear(n, n)\n",
    "\n",
    "model_shared = nn.Sequential(\n",
    "    nn.Flatten(),\n",
    "    nn.Linear(D, n), \n",
    "    nn.Tanh(), h_2,\n",
    "    nn.Tanh(), h_2,\n",
    "    nn.Tanh(),\n",
    "    nn.Linear(n, classes),\n",
    ")"
   ]
  },
  {
   "cell_type": "markdown",
   "id": "9e66de7e",
   "metadata": {},
   "source": [
    "# Lets build an RNN network "
   ]
  },
  {
   "cell_type": "code",
   "execution_count": 24,
   "id": "28d2cf3e",
   "metadata": {},
   "outputs": [],
   "source": [
    "zip_file_url = \"https://download.pytorch.org/tutorial/data.zip\"\n",
    "\n",
    "import requests, zipfile, io\n",
    "r = requests.get(zip_file_url)\n",
    "z = zipfile.ZipFile(io.BytesIO(r.content))\n",
    "z.extractall()"
   ]
  },
  {
   "cell_type": "code",
   "execution_count": 25,
   "id": "3a517d0f",
   "metadata": {},
   "outputs": [
    {
     "name": "stdout",
     "output_type": "stream",
     "text": [
      "Arabic :  2000\n",
      "Chinese :  268\n",
      "Czech :  519\n",
      "Dutch :  297\n",
      "English :  3668\n",
      "French :  277\n",
      "German :  724\n",
      "Greek :  203\n",
      "Irish :  232\n",
      "Italian :  709\n",
      "Japanese :  991\n",
      "Korean :  94\n",
      "Polish :  139\n",
      "Portuguese :  74\n",
      "Russian :  9408\n",
      "Scottish :  100\n",
      "Spanish :  298\n",
      "Vietnamese :  73\n"
     ]
    }
   ],
   "source": [
    "namge_language_data = {}\n",
    "\n",
    "#We will use some code to remove UNICODE tokens to make life easy for us processing wise\n",
    "#e.g., convert something like \"Ślusàrski\" to Slusarski\n",
    "import unicodedata\n",
    "import string\n",
    "\n",
    "all_letters = string.ascii_letters + \" .,;'\"\n",
    "n_letters = len(all_letters)\n",
    "alphabet = {}\n",
    "for i in range(n_letters):\n",
    "    alphabet[all_letters[i]] = i\n",
    "    \n",
    "# Turn a Unicode string to plain ASCII, thanks to https://stackoverflow.com/a/518232/2809427\n",
    "def unicodeToAscii(s):\n",
    "    return ''.join(\n",
    "        c for c in unicodedata.normalize('NFD', s)\n",
    "        if unicodedata.category(c) != 'Mn'\n",
    "        and c in all_letters\n",
    "    )\n",
    "\n",
    "#Loop through every language, open the zip file entry, and read all the lines from the text file. \n",
    "for zip_path in z.namelist():\n",
    "    if \"data/names/\" in zip_path and zip_path.endswith(\".txt\"):\n",
    "        lang = zip_path[len(\"data/names/\"):-len(\".txt\")]\n",
    "        with z.open(zip_path) as myfile:\n",
    "            lang_names = [unicodeToAscii(line).lower() for line in str(myfile.read(), encoding='utf-8').strip().split(\"\\n\")]\n",
    "            namge_language_data[lang] = lang_names\n",
    "        print(lang, \": \", len(lang_names)) #Print out the name of each language too. \n"
   ]
  },
  {
   "cell_type": "code",
   "execution_count": 26,
   "id": "cca327b6",
   "metadata": {},
   "outputs": [
    {
     "data": {
      "text/plain": [
       "dict_keys(['Arabic', 'Chinese', 'Czech', 'Dutch', 'English', 'French', 'German', 'Greek', 'Irish', 'Italian', 'Japanese', 'Korean', 'Polish', 'Portuguese', 'Russian', 'Scottish', 'Spanish', 'Vietnamese'])"
      ]
     },
     "execution_count": 26,
     "metadata": {},
     "output_type": "execute_result"
    }
   ],
   "source": [
    "namge_language_data.keys()"
   ]
  },
  {
   "cell_type": "code",
   "execution_count": 27,
   "id": "819596d3",
   "metadata": {},
   "outputs": [
    {
     "name": "stdout",
     "output_type": "stream",
     "text": [
      "First 10 Arabic names in the dataset:\n",
      "1. khoury\n",
      "2. nahas\n",
      "3. daher\n",
      "4. gerges\n",
      "5. nazari\n",
      "6. maalouf\n",
      "7. gerges\n",
      "8. naifeh\n",
      "9. guirguis\n",
      "10. baba\n"
     ]
    }
   ],
   "source": [
    "# Show the first 10 Arabic names in the dataset\n",
    "print(\"First 10 Arabic names in the dataset:\")\n",
    "for i, name in enumerate(namge_language_data[\"Arabic\"][:10], 1):\n",
    "    print(f\"{i}. {name}\")"
   ]
  },
  {
   "cell_type": "code",
   "execution_count": 28,
   "id": "d816f945",
   "metadata": {},
   "outputs": [],
   "source": [
    "class LanguageNameDataset(Dataset):\n",
    "    '''\n",
    "    self.label_names becomes ['English', 'Spanish', 'Japanese']\n",
    "    self.data becomes ['Smith', 'Johnson', 'Williams', 'Garcia', 'Rodriguez', 'Lopez', 'Tanaka', 'Suzuki', 'Sato']\n",
    "    self.labels becomes [0, 0, 0, 1, 1, 1, 2, 2, 2] (0 for English, 1 for Spanish, 2 for Japanese)\n",
    "\n",
    "    Now, let's see what happens when we access a specific item, for example dataset[4]:\n",
    "\n",
    "    The __getitem__ method is called with idx=4\n",
    "    It retrieves name = self.data[4] which is 'Rodriguez'\n",
    "    It retrieves label = self.labels[4] which is 1 (Spanish)\n",
    "    It calls self.string2InputVec('Rodriguez') which does the following:\n",
    "\n",
    "    Creates a tensor of zeros with length 9 (number of characters in \"Rodriguez\")\n",
    "    For each character, it replaces the zeros with the corresponding integer from the vocabulary:\n",
    "\n",
    "    'R' → 44\n",
    "    'o' → 15\n",
    "    'd' → 4\n",
    "    'r' → 18\n",
    "    'i' → 9\n",
    "    'g' → 7\n",
    "    'u' → 21\n",
    "    'e' → 5\n",
    "    'z' → 26\n",
    "\n",
    "\n",
    "    This creates the tensor: tensor([44, 15, 4, 18, 9, 7, 21, 5, 26])\n",
    "\n",
    "\n",
    "    It converts the label 1 to a tensor: tensor([1])\n",
    "    It returns the tuple: (tensor([44, 15, 4, 18, 9, 7, 21, 5, 26]), tensor([1]))\n",
    "    '''\n",
    "    \n",
    "    def __init__(self, lang_name_dict, vocabulary):\n",
    "        self.label_names = [x for x in lang_name_dict.keys()]\n",
    "        self.data = []\n",
    "        self.labels = []\n",
    "        self.vocabulary = vocabulary\n",
    "        for y, language in enumerate(self.label_names):\n",
    "            for sample in lang_name_dict[language]:\n",
    "                self.data.append(sample)\n",
    "                self.labels.append(y)\n",
    "        \n",
    "    def __len__(self):\n",
    "        return len(self.data)\n",
    "    \n",
    "    def string2InputVec(self, input_string):\n",
    "        \"\"\"\n",
    "        This method will convert any input string into a vector of long values, according to the vocabulary used by this object. \n",
    "        input_string: the string to convert to a tensor\n",
    "        \"\"\"\n",
    "        T = len(input_string) #How many characters long is the string?\n",
    "        \n",
    "        #Create a new tensor to store the result in\n",
    "        name_vec = torch.zeros((T), dtype=torch.long)\n",
    "        #iterate through the string and place the appropriate values into the tensor\n",
    "        for pos, character in enumerate(input_string):\n",
    "            name_vec[pos] = self.vocabulary[character]\n",
    "            \n",
    "        return name_vec\n",
    "    \n",
    "    def __getitem__(self, idx):\n",
    "        name = self.data[idx]\n",
    "        label = self.labels[idx]\n",
    "        \n",
    "        # Convert the correct class label into a tensor for PyTorch\n",
    "        label_vec = torch.tensor([label], dtype=torch.long)\n",
    "        \n",
    "        return self.string2InputVec(name), label\n"
   ]
  },
  {
   "cell_type": "markdown",
   "id": "fcd86dcf",
   "metadata": {},
   "source": [
    "## NEW MODIFICATION ADDED !!\n",
    "## by calling the collate_fn=collate_fn inside the dataloader."
   ]
  },
  {
   "cell_type": "code",
   "execution_count": 29,
   "id": "b57bfb64",
   "metadata": {},
   "outputs": [],
   "source": [
    "dataset = LanguageNameDataset(namge_language_data, alphabet)\n",
    "## i need to change the batch size\n",
    "train_data, test_data = torch.utils.data.random_split(dataset, (len(dataset)-300, 300))\n",
    "train_loader = DataLoader(train_data, batch_size=16, shuffle=True, collate_fn=collate_fn)\n",
    "test_loader = DataLoader(test_data, batch_size=16, shuffle=False, collate_fn=collate_fn)"
   ]
  },
  {
   "cell_type": "code",
   "execution_count": 30,
   "id": "14613ff1",
   "metadata": {},
   "outputs": [
    {
     "name": "stdout",
     "output_type": "stream",
     "text": [
      "torch.Size([5]) torch.Size([5, 2])\n",
      "tensor([[ 0.2893,  0.1752],\n",
      "        [ 0.9180,  1.7443],\n",
      "        [ 0.9180,  1.7443],\n",
      "        [ 0.2893,  0.1752],\n",
      "        [ 0.3958, -1.5579]])\n"
     ]
    }
   ],
   "source": [
    "# example of embedding\n",
    "# ammae\n",
    "'input sequence with T = 5 items but a vocabulary of only 3 items'\n",
    "with torch.no_grad():\n",
    "    input_sequence = torch.tensor([0, 1, 1, 0, 2], dtype=torch.long)\n",
    "    embd = nn.Embedding(3, 2)\n",
    "    x_seq = embd(input_sequence)\n",
    "    print(input_sequence.shape, x_seq.shape)\n",
    "    print(x_seq)"
   ]
  },
  {
   "cell_type": "code",
   "execution_count": 31,
   "id": "a9f0cfbf",
   "metadata": {},
   "outputs": [],
   "source": [
    "class LastTimeStep(nn.Module):\n",
    "    \"\"\"\n",
    "    A class for extracting the hidden activations of the last time step following \n",
    "    the output of a PyTorch RNN module. \n",
    "    it extracts the final hidden state from the RNN, \n",
    "    which contains the model's \"understanding\" of the entire name sequence\n",
    "    \"\"\"\n",
    "    def __init__(self, rnn_layers=1, bidirectional=False):\n",
    "        super(LastTimeStep, self).__init__()\n",
    "        self.rnn_layers = rnn_layers\n",
    "        if bidirectional:\n",
    "            self.num_driections = 2\n",
    "        else:\n",
    "            self.num_driections = 1    \n",
    "    \n",
    "    def forward(self, input):\n",
    "        #Result is either a tuple (out, h_t)\n",
    "        #or a tuple (out, (h_t, c_t))\n",
    "        rnn_output = input[0]\n",
    "        last_step = input[1] #this will be h_t\n",
    "        if(type(last_step) == tuple): # unless it's a tuple, \n",
    "            last_step = last_step[0] # then h_t is the first item in the tuple\n",
    "        batch_size = last_step.shape[1] # per docs, shape is: '(num_layers * num_directions, batch, hidden_size)'\n",
    "        # reshaping so that everything is separate \n",
    "        last_step = last_step.view(self.rnn_layers, self.num_driections, batch_size, -1)\n",
    "        # We want the last layer's results\n",
    "        last_step = last_step[self.rnn_layers-1] \n",
    "        # Re order so batch comes first\n",
    "        last_step = last_step.permute(1, 0, 2)\n",
    "        # Finally, flatten the last two dimensions into one\n",
    "        return last_step.reshape(batch_size, -1)\n",
    "\n"
   ]
  },
  {
   "cell_type": "markdown",
   "id": "d6a4765e",
   "metadata": {},
   "source": [
    "### NEW PART ADDED !!"
   ]
  },
  {
   "cell_type": "code",
   "execution_count": 32,
   "id": "d5530ba6",
   "metadata": {},
   "outputs": [],
   "source": [
    "class RNN(nn.Module):\n",
    "    def __init__(self, vocab_size, emb_dim, hidden_dim, output_dim):\n",
    "        super().__init__()\n",
    "        self.embedding = nn.Embedding(vocab_size, emb_dim)\n",
    "        self.rnn = nn.RNN(emb_dim, hidden_dim, batch_first=True)\n",
    "        self.fc = nn.Linear(hidden_dim, output_dim)\n",
    "\n",
    "    def forward(self, x, lengths):\n",
    "        x = self.embedding(x)\n",
    "        lengths = lengths.cpu()  # Required for pack_padded_sequence\n",
    "        x_packed = nn.utils.rnn.pack_padded_sequence(x, lengths, batch_first=True, enforce_sorted=False)\n",
    "        _, hidden = self.rnn(x_packed)\n",
    "        return self.fc(hidden[-1])  # Final hidden state\n"
   ]
  },
  {
   "cell_type": "code",
   "execution_count": 33,
   "id": "e3fdebd0",
   "metadata": {},
   "outputs": [],
   "source": [
    "D = 64\n",
    "vocab_size = len(all_letters)\n",
    "hidden_nodes = 256\n",
    "classes = len(dataset.label_names)\n",
    "\n",
    "first_rnn = nn.Sequential(\n",
    "  nn.Embedding(vocab_size, D), #(B, T) -> (B, T, D)\n",
    "  nn.RNN(D, hidden_nodes, batch_first=True), #(B, T, D) -> ( (B,T,D) , (S, B, D)  )\n",
    "  # the tanh activation is built into the RNN object, so we don't need to do it here\n",
    "  LastTimeStep(), # We need to take the RNN output and reduce it to one item, (B, D)\n",
    "  nn.Linear(hidden_nodes, classes), #(B, D) -> (B, classes)\n",
    ")\n"
   ]
  },
  {
   "cell_type": "markdown",
   "id": "3ebe922a",
   "metadata": {},
   "source": [
    "### PART ADDED TO CALL THE RNN !!"
   ]
  },
  {
   "cell_type": "code",
   "execution_count": 34,
   "id": "081e40e6",
   "metadata": {},
   "outputs": [],
   "source": [
    "model = RNN(\n",
    "    vocab_size=len(all_letters),\n",
    "    emb_dim=64,\n",
    "    hidden_dim=256,\n",
    "    output_dim=len(dataset.label_names)\n",
    ")\n"
   ]
  },
  {
   "cell_type": "markdown",
   "id": "f9d5d763",
   "metadata": {},
   "source": [
    "### SOME MODIFICATIONS IN THE move_to ,run_epoch"
   ]
  },
  {
   "cell_type": "code",
   "execution_count": 35,
   "id": "d05214f0",
   "metadata": {},
   "outputs": [],
   "source": [
    "def move_to(x, device):\n",
    "    if isinstance(x, (list, tuple)):\n",
    "        return [move_to(elem, device) for elem in x]\n",
    "    return x.to(device)\n",
    "\n",
    "    \n",
    "def run_epoch(dataloader, model, loss_func, optimizer=None, device='cpu', score_funcs={}):\n",
    "    is_training = optimizer is not None\n",
    "    model.train() if is_training else model.eval()\n",
    "\n",
    "    total_loss = 0\n",
    "    targets, predictions = [], []\n",
    "\n",
    "    for xb, lengths, yb in dataloader:\n",
    "        xb, lengths, yb = move_to(xb, device), move_to(lengths, device), move_to(yb, device)\n",
    "\n",
    "        out = model(xb, lengths)\n",
    "        loss = loss_func(out, yb)\n",
    "\n",
    "        if is_training:\n",
    "            optimizer.zero_grad()\n",
    "            loss.backward()\n",
    "            optimizer.step()\n",
    "\n",
    "        total_loss += loss.item() * yb.size(0)\n",
    "        predictions.extend(out.argmax(dim=1).tolist())\n",
    "        targets.extend(yb.tolist())\n",
    "\n",
    "    avg_loss = total_loss / len(dataloader.dataset)\n",
    "    scores = {name: func(targets, predictions) for name, func in score_funcs.items()}\n",
    "    return avg_loss, scores\n",
    "\n",
    "\n",
    "def train_simple_network(model, loss_func, train_loader, test_loader=None, score_funcs={}, device='cpu', epochs=10):\n",
    "    model = model.to(device)\n",
    "    optimizer = torch.optim.Adam(model.parameters(), lr=0.001)\n",
    "    history = []\n",
    "\n",
    "    for epoch in range(epochs):\n",
    "        train_loss, train_scores = run_epoch(train_loader, model, loss_func, optimizer, device, score_funcs)\n",
    "        result = {'epoch': epoch, 'train loss': train_loss, **{f'train {k}': v for k, v in train_scores.items()}}\n",
    "\n",
    "        if test_loader:\n",
    "            test_loss, test_scores = run_epoch(test_loader, model, loss_func, None, device, score_funcs)\n",
    "            result.update({'test loss': test_loss, **{f'test {k}': v for k, v in test_scores.items()}})\n",
    "\n",
    "        history.append(result)\n",
    "        print(result)\n",
    "\n",
    "    return pd.DataFrame(history)\n"
   ]
  },
  {
   "cell_type": "code",
   "execution_count": 36,
   "id": "6381f6ca",
   "metadata": {},
   "outputs": [
    {
     "name": "stdout",
     "output_type": "stream",
     "text": [
      "{'epoch': 0, 'train loss': 0.9753313568685683, 'train Accuracy': 0.7125012642864368, 'test loss': 0.71276806751887, 'test Accuracy': 0.7833333333333333}\n",
      "{'epoch': 1, 'train loss': 0.6777088013037253, 'train Accuracy': 0.7924041670880955, 'test loss': 0.6416345814863841, 'test Accuracy': 0.7966666666666666}\n",
      "{'epoch': 2, 'train loss': 0.5662473822684166, 'train Accuracy': 0.8238596136340649, 'test loss': 0.5663977632919948, 'test Accuracy': 0.84}\n",
      "{'epoch': 3, 'train loss': 0.49857816437118585, 'train Accuracy': 0.8409527662587236, 'test loss': 0.5180202867587408, 'test Accuracy': 0.85}\n",
      "{'epoch': 4, 'train loss': 0.4402762027469602, 'train Accuracy': 0.8574390613937494, 'test loss': 0.5238256839911143, 'test Accuracy': 0.8366666666666667}\n"
     ]
    }
   ],
   "source": [
    "loss_func = nn.CrossEntropyLoss()\n",
    "results_df = train_simple_network(\n",
    "    model,\n",
    "    loss_func,\n",
    "    train_loader,\n",
    "    test_loader=test_loader,\n",
    "    score_funcs={'Accuracy': accuracy_score},\n",
    "    device='cpu',  # use 'cuda' or 'mps' if supported\n",
    "    epochs=5\n",
    ")\n"
   ]
  },
  {
   "cell_type": "code",
   "execution_count": 37,
   "id": "f9c0a98c",
   "metadata": {},
   "outputs": [
    {
     "data": {
      "image/png": "[encoded data removed]",
      "text/plain": [
       "<Figure size 640x480 with 1 Axes>"
      ]
     },
     "metadata": {},
     "output_type": "display_data"
    }
   ],
   "source": [
    "sns.lineplot(x='epoch', y='test Accuracy', data=results_df, label='RNN')\n",
    "plt.title(\"Test Accuracy Over Epochs\")\n",
    "plt.show()"
   ]
  },
  {
   "cell_type": "code",
   "execution_count": 38,
   "id": "3bf5fcee",
   "metadata": {},
   "outputs": [
    {
     "name": "stdout",
     "output_type": "stream",
     "text": [
      "Arabic : 4.1958048939704895 %\n",
      "Chinese : 3.7734143435955048 %\n",
      "Czech : 6.915605068206787 %\n",
      "Dutch : 5.849756672978401 %\n",
      "English : 5.787361413240433 %\n",
      "French : 4.937802627682686 %\n",
      "German : 7.215854525566101 %\n",
      "Greek : 5.975043028593063 %\n",
      "Irish : 7.377558946609497 %\n",
      "Italian : 4.890928417444229 %\n",
      "Japanese : 6.2878042459487915 %\n",
      "Korean : 5.514342337846756 %\n",
      "Polish : 4.458523914217949 %\n",
      "Portuguese : 5.418014898896217 %\n",
      "Russian : 4.759784787893295 %\n",
      "Scottish : 5.732452496886253 %\n",
      "Spanish : 5.197713524103165 %\n",
      "Vietnamese : 5.712233856320381 %\n"
     ]
    }
   ],
   "source": [
    "pred_rnn = first_rnn.to(\"cpu\").eval()\n",
    "with torch.inference_mode():\n",
    "    preds = F.softmax(pred_rnn(dataset.string2InputVec(\"frank\").reshape(1,-1)), dim=-1)\n",
    "    for class_id in range(len(dataset.label_names)):\n",
    "        print(dataset.label_names[class_id], \":\", preds[0,class_id].item()*100 , \"%\")"
   ]
  },
  {
   "cell_type": "markdown",
   "id": "a9033d2e",
   "metadata": {},
   "source": [
    "### More simple example"
   ]
  },
  {
   "cell_type": "code",
   "execution_count": 39,
   "id": "0b2ace22",
   "metadata": {},
   "outputs": [
    {
     "name": "stdout",
     "output_type": "stream",
     "text": [
      "Character vocabulary size: 36\n",
      "Character mapping example: {'A': 1, 'C': 2, 'D': 3, 'E': 4, 'H': 5}\n",
      "Maximum name length: 11\n",
      "Input tensor shape: torch.Size([3, 5, 11])\n",
      "\n",
      "Encoded first name in batch 1: tensor([ 6, 27, 20, 26,  0,  0,  0,  0,  0,  0,  0])\n",
      "Decoded back: John\n",
      "\n",
      "Output shape for first names: torch.Size([3, 11, 20])\n",
      "Hidden state shape: torch.Size([1, 3, 20])\n"
     ]
    }
   ],
   "source": [
    "import torch\n",
    "import torch.nn as nn\n",
    "\n",
    "# Sample data: 3 batches, each with 5 names\n",
    "names_batch = [\n",
    "    # Batch 1: 5 American names\n",
    "    [\"John\", \"Elizabeth\", \"Michael\", \"Jennifer\", \"Christopher\"],\n",
    "    \n",
    "    # Batch 2: 5 Japanese names\n",
    "    [\"Hiroshi\", \"Yuki\", \"Takeshi\", \"Aiko\", \"Kenji\"],\n",
    "    \n",
    "    # Batch 3: 5 Indian names\n",
    "    [\"Raj\", \"Priya\", \"Aditya\", \"Divya\", \"Vikram\"]\n",
    "]\n",
    "\n",
    "# Step 1: Convert characters to indices\n",
    "# First, create a vocabulary of all characters\n",
    "all_chars = set()\n",
    "for batch in names_batch:\n",
    "    for name in batch:\n",
    "        all_chars.update(name)\n",
    "\n",
    "char_to_idx = {char: i+1 for i, char in enumerate(sorted(all_chars))}\n",
    "\n",
    "# Add padding token\n",
    "char_to_idx['<PAD>'] = 0\n",
    "idx_to_char = {i: char for char, i in char_to_idx.items()}\n",
    "\n",
    "print(\"Character vocabulary size:\", len(char_to_idx))\n",
    "print(\"Character mapping example:\", {k: char_to_idx[k] for k in list(char_to_idx.keys())[:5]})\n",
    "\n",
    "# Step 2: Find the longest name to determine max sequence length\n",
    "max_name_length = max(len(name) for batch in names_batch for name in batch)\n",
    "print(\"Maximum name length:\", max_name_length)\n",
    "\n",
    "# Step 3: Convert names to padded sequences of indices\n",
    "# Shape will be [batch_size, seq_length, input_size]\n",
    "# Where input_size=1 (one character at a time)\n",
    "input_data = torch.zeros(3, 5, max_name_length, dtype=torch.long)\n",
    "\n",
    "for batch_idx, batch in enumerate(names_batch):\n",
    "    for name_idx, name in enumerate(batch):\n",
    "        for char_idx, char in enumerate(name):\n",
    "            input_data[batch_idx, name_idx, char_idx] = char_to_idx[char]\n",
    "\n",
    "print(\"Input tensor shape:\", input_data.shape)\n",
    "print(\"\\nEncoded first name in batch 1:\", input_data[0, 0])\n",
    "print(\"Decoded back:\", ''.join([idx_to_char[idx.item()] for idx in input_data[0, 0] if idx.item() > 0]))\n",
    "\n",
    "# Step 4: For RNN processing, we need to convert this to one-hot encoding or embeddings\n",
    "# Let's use embeddings which is more efficient\n",
    "vocab_size = len(char_to_idx)\n",
    "embedding_dim = 10  # Size of character embeddings\n",
    "\n",
    "class NameRNN(nn.Module):\n",
    "    def __init__(self, vocab_size, embedding_dim, hidden_size):\n",
    "        super(NameRNN, self).__init__()\n",
    "        self.embedding = nn.Embedding(vocab_size, embedding_dim)\n",
    "        self.rnn = nn.RNN(embedding_dim, hidden_size, batch_first=True)\n",
    "        # We'll use the final hidden state for classification\n",
    "        \n",
    "    def forward(self, x):\n",
    "        # x shape: [batch_size, seq_length] for each name\n",
    "        embedded = self.embedding(x)  # Shape: [batch_size, seq_length, embedding_dim]\n",
    "        output, hidden = self.rnn(embedded)\n",
    "        return output, hidden\n",
    "\n",
    "# For processing, we'd need to reshape our data\n",
    "# Let's process one batch at a time for clarity\n",
    "model = NameRNN(vocab_size, embedding_dim, hidden_size=20)\n",
    "\n",
    "# Process the first name in each batch\n",
    "first_names = input_data[:, 0, :]  # Shape: [3, max_name_length]\n",
    "output, hidden = model(first_names)\n",
    "\n",
    "print(\"\\nOutput shape for first names:\", output.shape)  # Should be [3, max_name_length, 20]\n",
    "print(\"Hidden state shape:\", hidden.shape)  # Should be [1, 3, 20]"
   ]
  },
  {
   "cell_type": "code",
   "execution_count": null,
   "id": "94398a55",
   "metadata": {},
   "outputs": [],
   "source": []
  }
 ],
 "metadata": {
  "kernelspec": {
   "display_name": "Python 3",
   "language": "python",
   "name": "python3"
  },
  "language_info": {
   "codemirror_mode": {
    "name": "ipython",
    "version": 3
   },
   "file_extension": ".py",
   "mimetype": "text/x-python",
   "name": "python",
   "nbconvert_exporter": "python",
   "pygments_lexer": "ipython3",
   "version": "3.12.0"
  }
 },
 "nbformat": 4,
 "nbformat_minor": 5
}
